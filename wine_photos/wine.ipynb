{
 "cells": [
  {
   "cell_type": "code",
   "execution_count": 1,
   "metadata": {},
   "outputs": [],
   "source": [
    "import requests\n",
    "import flickrapi\n",
    "import urllib.request\n",
    "import pandas as pd\n",
    "\n",
    "from pprint import pprint\n",
    "from config import api_key, api_secret"
   ]
  },
  {
   "cell_type": "code",
   "execution_count": 2,
   "metadata": {},
   "outputs": [],
   "source": [
    "#downloaded using these libraries: https://stuvel.eu/flickrapi & https://www.flickr.com/services/api/explore/flickr.photos.search\n",
    "\n",
    "#authenticate and format \n",
    "flickr = flickrapi.FlickrAPI(api_key, api_secret, format='parsed-json')\n",
    "\n",
    "#call flickr photo search AP\n",
    "\n",
    "#this will give json"
   ]
  },
  {
   "cell_type": "code",
   "execution_count": 3,
   "metadata": {},
   "outputs": [],
   "source": [
    "#using json, https://stackoverflow.com/questions/21328137/get-photos-from-flickr-photos-api put what was needed in an url format.\n",
    "\n",
    "wine_photos = sets['photos']['photo']\n",
    "wine_photos\n",
    "\n",
    "wine_urls = []\n",
    "\n",
    "#created empty dictionary and loop through the wine photos, which is a list.\n",
    "for photo in wine_photos:\n",
    "    url = f\"http://farm{photo['farm']}.staticflickr.com/{photo['server']}/{photo['id']}_{photo['secret']}.jpg\"\n",
    "    wine_urls.append(url)\n",
    "\n",
    "\n",
    "\n"
   ]
  },
  {
   "cell_type": "code",
   "execution_count": 4,
   "metadata": {},
   "outputs": [],
   "source": [
    "#download the photos and save. Add code to skip the error.\n",
    "count = 0\n",
    "for url in wine_urls:\n",
    "    try:\n",
    "        urllib.request.urlretrieve(url, f\"wine_photos/winebottle{count}.jpg\")\n",
    "        count += 1\n",
    "    except:\n",
    "        print('skip')\n",
    "    \n"
   ]
  },
  {
   "cell_type": "code",
   "execution_count": 5,
   "metadata": {},
   "outputs": [
    {
     "data": {
      "text/plain": [
       "{'id': '46656842955',\n",
       " 'owner': '137472695@N08',\n",
       " 'secret': '3c932f4cfb',\n",
       " 'server': '7863',\n",
       " 'farm': 8,\n",
       " 'title': 'Tension is who you think you should be. Relaxation is who you are.',\n",
       " 'ispublic': 1,\n",
       " 'isfriend': 0,\n",
       " 'isfamily': 0}"
      ]
     },
     "execution_count": 5,
     "metadata": {},
     "output_type": "execute_result"
    }
   ],
   "source": [
    "photo1 = sets['photos']['photo'][0]\n",
    "photo1"
   ]
  },
  {
   "cell_type": "code",
   "execution_count": 6,
   "metadata": {},
   "outputs": [
    {
     "data": {
      "text/plain": [
       "['http://farm8.staticflickr.com/7863/46656842955_3c932f4cfb.jpg',\n",
       " 'http://farm8.staticflickr.com/7837/32628510307_6750119a8e.jpg',\n",
       " 'http://farm8.staticflickr.com/7830/47567652571_aaaf33a230.jpg',\n",
       " 'http://farm8.staticflickr.com/7865/46843852224_4ec688b489.jpg',\n",
       " 'http://farm8.staticflickr.com/7907/46650699725_75a44c60a8.jpg',\n",
       " 'http://farm8.staticflickr.com/7876/32622424467_e23bf3da50.jpg',\n",
       " 'http://farm8.staticflickr.com/7846/46841215014_f153e8a263.jpg',\n",
       " 'http://farm8.staticflickr.com/7916/47509954082_b323f5555b.jpg',\n",
       " 'http://farm8.staticflickr.com/7875/47509953982_007bd2e586.jpg',\n",
       " 'http://farm8.staticflickr.com/7925/40596928713_5d5fe2dd63.jpg',\n",
       " 'http://farm8.staticflickr.com/7826/47509953802_e39e676599.jpg',\n",
       " 'http://farm8.staticflickr.com/7860/40596925643_557330c97a.jpg',\n",
       " 'http://farm8.staticflickr.com/7919/33685706818_ffe9b480cc.jpg',\n",
       " 'http://farm8.staticflickr.com/7838/33685706398_99b9b5bd54.jpg',\n",
       " 'http://farm8.staticflickr.com/7878/33685703238_7664ac8f17.jpg',\n",
       " 'http://farm8.staticflickr.com/7846/46646856105_983a383abe.jpg',\n",
       " 'http://farm8.staticflickr.com/7894/47562423171_60ac59cf45.jpg',\n",
       " 'http://farm8.staticflickr.com/7823/46646855885_90333b108e.jpg',\n",
       " 'http://farm8.staticflickr.com/7914/32617703847_4788c7f6b0.jpg',\n",
       " 'http://farm8.staticflickr.com/7821/46831927514_d5925a1403.jpg',\n",
       " 'http://farm8.staticflickr.com/7866/40575624863_5430d21fd0.jpg',\n",
       " 'http://farm8.staticflickr.com/7815/33661927888_c36cb02a39.jpg',\n",
       " 'http://farm8.staticflickr.com/7871/40572582283_a537e9946e.jpg',\n",
       " 'http://farm8.staticflickr.com/7813/46814925374_b79a43c913.jpg',\n",
       " 'http://farm8.staticflickr.com/7874/46814925154_663eb4c499.jpg',\n",
       " 'http://farm8.staticflickr.com/7923/33661868278_5d9e7ca0e2.jpg',\n",
       " 'http://farm8.staticflickr.com/7802/47485844402_b21cf4553e.jpg',\n",
       " 'http://farm8.staticflickr.com/7828/32596103597_b5d89381e9.jpg',\n",
       " 'http://farm8.staticflickr.com/7897/32596103297_51e269ca50.jpg',\n",
       " 'http://farm8.staticflickr.com/7857/32596102287_12460ba70e.jpg']"
      ]
     },
     "execution_count": 6,
     "metadata": {},
     "output_type": "execute_result"
    }
   ],
   "source": [
    "wine_urls \n"
   ]
  },
  {
   "cell_type": "code",
   "execution_count": 7,
   "metadata": {},
   "outputs": [
    {
     "data": {
      "text/html": [
       "<div>\n",
       "<style scoped>\n",
       "    .dataframe tbody tr th:only-of-type {\n",
       "        vertical-align: middle;\n",
       "    }\n",
       "\n",
       "    .dataframe tbody tr th {\n",
       "        vertical-align: top;\n",
       "    }\n",
       "\n",
       "    .dataframe thead th {\n",
       "        text-align: right;\n",
       "    }\n",
       "</style>\n",
       "<table border=\"1\" class=\"dataframe\">\n",
       "  <thead>\n",
       "    <tr style=\"text-align: right;\">\n",
       "      <th></th>\n",
       "      <th>wine photos</th>\n",
       "    </tr>\n",
       "  </thead>\n",
       "  <tbody>\n",
       "    <tr>\n",
       "      <th>0</th>\n",
       "      <td>http://farm8.staticflickr.com/7863/46656842955...</td>\n",
       "    </tr>\n",
       "    <tr>\n",
       "      <th>1</th>\n",
       "      <td>http://farm8.staticflickr.com/7837/32628510307...</td>\n",
       "    </tr>\n",
       "    <tr>\n",
       "      <th>2</th>\n",
       "      <td>http://farm8.staticflickr.com/7830/47567652571...</td>\n",
       "    </tr>\n",
       "    <tr>\n",
       "      <th>3</th>\n",
       "      <td>http://farm8.staticflickr.com/7865/46843852224...</td>\n",
       "    </tr>\n",
       "    <tr>\n",
       "      <th>4</th>\n",
       "      <td>http://farm8.staticflickr.com/7907/46650699725...</td>\n",
       "    </tr>\n",
       "    <tr>\n",
       "      <th>5</th>\n",
       "      <td>http://farm8.staticflickr.com/7876/32622424467...</td>\n",
       "    </tr>\n",
       "    <tr>\n",
       "      <th>6</th>\n",
       "      <td>http://farm8.staticflickr.com/7846/46841215014...</td>\n",
       "    </tr>\n",
       "    <tr>\n",
       "      <th>7</th>\n",
       "      <td>http://farm8.staticflickr.com/7916/47509954082...</td>\n",
       "    </tr>\n",
       "    <tr>\n",
       "      <th>8</th>\n",
       "      <td>http://farm8.staticflickr.com/7875/47509953982...</td>\n",
       "    </tr>\n",
       "    <tr>\n",
       "      <th>9</th>\n",
       "      <td>http://farm8.staticflickr.com/7925/40596928713...</td>\n",
       "    </tr>\n",
       "    <tr>\n",
       "      <th>10</th>\n",
       "      <td>http://farm8.staticflickr.com/7826/47509953802...</td>\n",
       "    </tr>\n",
       "    <tr>\n",
       "      <th>11</th>\n",
       "      <td>http://farm8.staticflickr.com/7860/40596925643...</td>\n",
       "    </tr>\n",
       "    <tr>\n",
       "      <th>12</th>\n",
       "      <td>http://farm8.staticflickr.com/7919/33685706818...</td>\n",
       "    </tr>\n",
       "    <tr>\n",
       "      <th>13</th>\n",
       "      <td>http://farm8.staticflickr.com/7838/33685706398...</td>\n",
       "    </tr>\n",
       "    <tr>\n",
       "      <th>14</th>\n",
       "      <td>http://farm8.staticflickr.com/7878/33685703238...</td>\n",
       "    </tr>\n",
       "    <tr>\n",
       "      <th>15</th>\n",
       "      <td>http://farm8.staticflickr.com/7846/46646856105...</td>\n",
       "    </tr>\n",
       "    <tr>\n",
       "      <th>16</th>\n",
       "      <td>http://farm8.staticflickr.com/7894/47562423171...</td>\n",
       "    </tr>\n",
       "    <tr>\n",
       "      <th>17</th>\n",
       "      <td>http://farm8.staticflickr.com/7823/46646855885...</td>\n",
       "    </tr>\n",
       "    <tr>\n",
       "      <th>18</th>\n",
       "      <td>http://farm8.staticflickr.com/7914/32617703847...</td>\n",
       "    </tr>\n",
       "    <tr>\n",
       "      <th>19</th>\n",
       "      <td>http://farm8.staticflickr.com/7821/46831927514...</td>\n",
       "    </tr>\n",
       "    <tr>\n",
       "      <th>20</th>\n",
       "      <td>http://farm8.staticflickr.com/7866/40575624863...</td>\n",
       "    </tr>\n",
       "    <tr>\n",
       "      <th>21</th>\n",
       "      <td>http://farm8.staticflickr.com/7815/33661927888...</td>\n",
       "    </tr>\n",
       "    <tr>\n",
       "      <th>22</th>\n",
       "      <td>http://farm8.staticflickr.com/7871/40572582283...</td>\n",
       "    </tr>\n",
       "    <tr>\n",
       "      <th>23</th>\n",
       "      <td>http://farm8.staticflickr.com/7813/46814925374...</td>\n",
       "    </tr>\n",
       "    <tr>\n",
       "      <th>24</th>\n",
       "      <td>http://farm8.staticflickr.com/7874/46814925154...</td>\n",
       "    </tr>\n",
       "    <tr>\n",
       "      <th>25</th>\n",
       "      <td>http://farm8.staticflickr.com/7923/33661868278...</td>\n",
       "    </tr>\n",
       "    <tr>\n",
       "      <th>26</th>\n",
       "      <td>http://farm8.staticflickr.com/7802/47485844402...</td>\n",
       "    </tr>\n",
       "    <tr>\n",
       "      <th>27</th>\n",
       "      <td>http://farm8.staticflickr.com/7828/32596103597...</td>\n",
       "    </tr>\n",
       "    <tr>\n",
       "      <th>28</th>\n",
       "      <td>http://farm8.staticflickr.com/7897/32596103297...</td>\n",
       "    </tr>\n",
       "    <tr>\n",
       "      <th>29</th>\n",
       "      <td>http://farm8.staticflickr.com/7857/32596102287...</td>\n",
       "    </tr>\n",
       "  </tbody>\n",
       "</table>\n",
       "</div>"
      ],
      "text/plain": [
       "                                          wine photos\n",
       "0   http://farm8.staticflickr.com/7863/46656842955...\n",
       "1   http://farm8.staticflickr.com/7837/32628510307...\n",
       "2   http://farm8.staticflickr.com/7830/47567652571...\n",
       "3   http://farm8.staticflickr.com/7865/46843852224...\n",
       "4   http://farm8.staticflickr.com/7907/46650699725...\n",
       "5   http://farm8.staticflickr.com/7876/32622424467...\n",
       "6   http://farm8.staticflickr.com/7846/46841215014...\n",
       "7   http://farm8.staticflickr.com/7916/47509954082...\n",
       "8   http://farm8.staticflickr.com/7875/47509953982...\n",
       "9   http://farm8.staticflickr.com/7925/40596928713...\n",
       "10  http://farm8.staticflickr.com/7826/47509953802...\n",
       "11  http://farm8.staticflickr.com/7860/40596925643...\n",
       "12  http://farm8.staticflickr.com/7919/33685706818...\n",
       "13  http://farm8.staticflickr.com/7838/33685706398...\n",
       "14  http://farm8.staticflickr.com/7878/33685703238...\n",
       "15  http://farm8.staticflickr.com/7846/46646856105...\n",
       "16  http://farm8.staticflickr.com/7894/47562423171...\n",
       "17  http://farm8.staticflickr.com/7823/46646855885...\n",
       "18  http://farm8.staticflickr.com/7914/32617703847...\n",
       "19  http://farm8.staticflickr.com/7821/46831927514...\n",
       "20  http://farm8.staticflickr.com/7866/40575624863...\n",
       "21  http://farm8.staticflickr.com/7815/33661927888...\n",
       "22  http://farm8.staticflickr.com/7871/40572582283...\n",
       "23  http://farm8.staticflickr.com/7813/46814925374...\n",
       "24  http://farm8.staticflickr.com/7874/46814925154...\n",
       "25  http://farm8.staticflickr.com/7923/33661868278...\n",
       "26  http://farm8.staticflickr.com/7802/47485844402...\n",
       "27  http://farm8.staticflickr.com/7828/32596103597...\n",
       "28  http://farm8.staticflickr.com/7897/32596103297...\n",
       "29  http://farm8.staticflickr.com/7857/32596102287..."
      ]
     },
     "execution_count": 7,
     "metadata": {},
     "output_type": "execute_result"
    }
   ],
   "source": [
    "df = pd.DataFrame({\"wine photos\": wine_urls})\n",
    "df\n",
    "\n"
   ]
  },
  {
   "cell_type": "code",
   "execution_count": 8,
   "metadata": {},
   "outputs": [],
   "source": [
    "df.to_csv(\"winephotos.csv\")"
   ]
  },
  {
   "cell_type": "code",
   "execution_count": null,
   "metadata": {},
   "outputs": [],
   "source": []
  },
  {
   "cell_type": "code",
   "execution_count": 28,
   "metadata": {},
   "outputs": [],
   "source": []
  },
  {
   "cell_type": "code",
   "execution_count": null,
   "metadata": {},
   "outputs": [],
   "source": []
  },
  {
   "cell_type": "code",
   "execution_count": null,
   "metadata": {},
   "outputs": [],
   "source": []
  },
  {
   "cell_type": "code",
   "execution_count": null,
   "metadata": {},
   "outputs": [],
   "source": []
  },
  {
   "cell_type": "code",
   "execution_count": 6,
   "metadata": {},
   "outputs": [],
   "source": []
  },
  {
   "cell_type": "code",
   "execution_count": null,
   "metadata": {},
   "outputs": [],
   "source": []
  },
  {
   "cell_type": "code",
   "execution_count": null,
   "metadata": {},
   "outputs": [],
   "source": []
  }
 ],
 "metadata": {
  "kernelspec": {
   "display_name": "Python 3",
   "language": "python",
   "name": "python3"
  },
  "language_info": {
   "codemirror_mode": {
    "name": "ipython",
    "version": 3
   },
   "file_extension": ".py",
   "mimetype": "text/x-python",
   "name": "python",
   "nbconvert_exporter": "python",
   "pygments_lexer": "ipython3",
   "version": "3.7.0"
  }
 },
 "nbformat": 4,
 "nbformat_minor": 2
}
